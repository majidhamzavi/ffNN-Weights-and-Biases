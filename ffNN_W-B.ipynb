{
 "cells": [
  {
   "cell_type": "code",
   "execution_count": 1,
   "metadata": {},
   "outputs": [],
   "source": [
    "# Importing libraries\n",
    "import numpy as np\n",
    "import matplotlib.pyplot as plt\n",
    "#import pandas as pd\n",
    "import timeit"
   ]
  },
  {
   "cell_type": "code",
   "execution_count": 2,
   "metadata": {},
   "outputs": [],
   "source": [
    "# Activation functions\n",
    "def ReLU(x):\n",
    "    return x * (x > 0)\n",
    "\n",
    "def Sig(x):\n",
    "    return 1/(1+np.exp(-x))\n",
    "\n",
    "# feed forward function\n",
    "def ff(x, w, b):\n",
    "    # First Hidden calculations\n",
    "    h0 = ReLU(x.dot(w[0])+ b[0])\n",
    " \n",
    "  # Second Hidden calculations\n",
    "    h1 = ReLU(h0.dot(w[1]) + b[1])\n",
    "\n",
    "  # output calculations\n",
    "    ff = Sig(h1.dot(w[2]) + b[2])\n",
    "    return ff\n",
    "# geneartion function for random weights abd biases\n",
    "def random_w(s):\n",
    "    w0 = (np.random.rand(784, 512) - .5) * s\n",
    "    w1 = (np.random.rand(512, 512) - .5) * s\n",
    "    w2 = (np.random.rand(512, 10) - .5) * s\n",
    "    b0 = (np.random.rand(512, ) - .5) * s\n",
    "    b1 = (np.random.rand(512, ) - .5) * s\n",
    "    b2 = (np.random.rand(10, ) - .5) * s\n",
    "    w = [w0, w1, w2]\n",
    "    b = [b0, b1, b2]\n",
    "    return w, b\n",
    "\n",
    "def onehot(X):\n",
    "    T = np.zeros((X.shape[0],np.max(X)+1))\n",
    "    T[np.arange(len(X)),X] = 1 #Set T[i,X[i]] to 1\n",
    "    return T"
   ]
  },
  {
   "cell_type": "code",
   "execution_count": 3,
   "metadata": {},
   "outputs": [],
   "source": [
    "# data preprocessing\n",
    "xtrain = np.loadtxt('xtrain.txt', delimiter=',')\n",
    "xtrain /= 255\n",
    "ytrain = np.loadtxt('ytrain.txt', delimiter=',').astype(int)\n",
    "ytrain = onehot(ytrain)"
   ]
  },
  {
   "cell_type": "code",
   "execution_count": 4,
   "metadata": {},
   "outputs": [
    {
     "name": "stdout",
     "output_type": "stream",
     "text": [
      "running time: 89.83 s\n"
     ]
    }
   ],
   "source": [
    "start = timeit.default_timer()\n",
    "\n",
    "# setting the best weights and biases\n",
    "w_best, b_best = random_w(0.2) # creating first random weights and biases\n",
    "y_plot = [] # save errors in each iteration for later plot\n",
    "iter = 1200\n",
    "for i in range (iter):\n",
    "    \n",
    "    k = np.random.randint(60000, size=500)\n",
    "    xtrain_rand = xtrain[k,:]\n",
    "    ytrain_rand = ytrain[k,]\n",
    "    \n",
    "    w_rand, b_rand = random_w(.02)\n",
    "    w = [w_best[j] + w_rand[j] for j in range(len(w_best))]\n",
    "    b = [b_best[j] + b_rand[j] for j in range(len(w_best))] \n",
    "\n",
    "    from sklearn.metrics import mean_squared_error\n",
    "    e0 = mean_squared_error(ytrain_rand,ff(xtrain_rand, w_best, b_best))\n",
    "    e1 = mean_squared_error(ytrain_rand,ff(xtrain_rand, w, b))\n",
    "    #print(e0)\n",
    "    #print(e1)\n",
    "    y_plot.append(e0)  \n",
    "    \n",
    "    if e0 > e1:\n",
    "        w_best = w\n",
    "        b_best = b\n",
    "        \n",
    "        #return W0_best,W1_best,W2_best,B0_best,B1_best,B2_best\n",
    "stop = timeit.default_timer()\n",
    "time = print('running time:', round((stop - start ),2), 's')"
   ]
  },
  {
   "cell_type": "code",
   "execution_count": 5,
   "metadata": {},
   "outputs": [],
   "source": [
    "# load test datasets\n",
    "xtest = np.loadtxt('xtest.txt', delimiter=',')\n",
    "xtest /= 255\n",
    "ytest = np.loadtxt('ytest.txt', delimiter=',').astype(int)"
   ]
  },
  {
   "cell_type": "code",
   "execution_count": 6,
   "metadata": {},
   "outputs": [],
   "source": [
    "# test \n",
    "Output = ff(xtest, w_best, b_best)\n",
    "Output = np.argmax(Output, axis = 1)"
   ]
  },
  {
   "cell_type": "code",
   "execution_count": 7,
   "metadata": {},
   "outputs": [
    {
     "name": "stdout",
     "output_type": "stream",
     "text": [
      "accuracy: 55.17 %\n"
     ]
    }
   ],
   "source": [
    "#ytrain1 = np.loadtxt('ytrain.txt', delimiter=',').astype(int)\n",
    "accuracy = ((np.count_nonzero(Output==ytest))/10000)*100\n",
    "print('accuracy:', round(accuracy,2), '%') "
   ]
  },
  {
   "cell_type": "code",
   "execution_count": 8,
   "metadata": {},
   "outputs": [
    {
     "name": "stdout",
     "output_type": "stream",
     "text": [
      "[[ 816    1  120   68   35   95   67   50   97   62]\n",
      " [   2 1000  126   39   49   32   47  100  213   46]\n",
      " [  11   67  198   33   14   62   71   25   40    3]\n",
      " [   8   21  122  679   45  104    6   31  147   29]\n",
      " [  15    0   49    9  541   63   45   34   60  193]\n",
      " [  57    9   34   32   14  357   57   13  128   15]\n",
      " [  58    2  294   68  118   56  658    7   69   36]\n",
      " [   9   24   48   25   23   87    1  712  123   88]\n",
      " [   0    6   15    2    3    7    0    1   22    3]\n",
      " [   4    5   26   55  140   29    6   55   75  534]]\n"
     ]
    }
   ],
   "source": [
    "# Making the Confusion Matrix\n",
    "from sklearn.metrics import confusion_matrix        \n",
    "cm = confusion_matrix(Output, ytest)\n",
    "print(cm)"
   ]
  },
  {
   "cell_type": "code",
   "execution_count": 9,
   "metadata": {},
   "outputs": [
    {
     "data": {
      "image/png": "[encoded data removed]",
      "text/plain": [
       "<Figure size 432x288 with 1 Axes>"
      ]
     },
     "metadata": {
      "needs_background": "light"
     },
     "output_type": "display_data"
    }
   ],
   "source": [
    "# plot error vs iterations\n",
    "plt.plot( y_plot, 'r')\n",
    "plt.xlabel('Iteration')\n",
    "plt.ylabel('Error')\n",
    "plt.show()"
   ]
  },
  {
   "cell_type": "code",
   "execution_count": null,
   "metadata": {},
   "outputs": [],
   "source": []
  }
 ],
 "metadata": {
  "kernelspec": {
   "display_name": "Python 3",
   "language": "python",
   "name": "python3"
  },
  "language_info": {
   "codemirror_mode": {
    "name": "ipython",
    "version": 3
   },
   "file_extension": ".py",
   "mimetype": "text/x-python",
   "name": "python",
   "nbconvert_exporter": "python",
   "pygments_lexer": "ipython3",
   "version": "3.7.4"
  }
 },
 "nbformat": 4,
 "nbformat_minor": 2
}
